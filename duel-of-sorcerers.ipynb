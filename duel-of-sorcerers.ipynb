{
 "cells": [
  {
   "cell_type": "markdown",
   "source": [
    "<img src=\"https://bit.ly/2VnXWr2\" width=\"100\" align=\"left\">"
   ],
   "metadata": {}
  },
  {
   "cell_type": "markdown",
   "source": [
    "# Duel of Sorcerers\n",
    "You are witnessing an epic battle between two powerful sorcerers: Gandalf and Saruman. Each sorcerer has 10 spells of variable power in their mind and they are going to throw them one after the other. The winner of the duel will be the one who wins more of those clashes between spells. Spells are represented as a list of 10 integers whose value equals the power of the spell.\n",
    "```\n",
    "gandalf = [10, 11, 13, 30, 22, 11, 10, 33, 22, 22]\n",
    "saruman = [23, 66, 12, 43, 12, 10, 44, 23, 12, 17]\n",
    "```\n",
    "For example:\n",
    "- The first clash is won by Saruman: 10 against 23.\n",
    "- The second clash is won by Saruman: 11 against 66.\n",
    "- ...\n",
    "\n",
    "You will create two variables, one for each sorcerer, where the sum of clashes won will be stored. Depending on which variable is greater at the end of the duel, you will show one of the following three results on the screen:\n",
    "* Gandalf wins\n",
    "* Saruman wins\n",
    "* Tie\n",
    "\n",
    "<img src=\"images/content_lightning_bolt_big.jpg\" width=\"400\">"
   ],
   "metadata": {}
  },
  {
   "cell_type": "markdown",
   "source": [
    "## Tools\n",
    "You don't necessarily need to use all the tools. Maybe you opt to use some of them or completely different ones, they are given to help you shape the exercise. Programming exercises can be solved in many different ways.\n",
    "\n",
    "1. Data structures: **lists, dictionaries**\n",
    "2. Loop: **for loop**\n",
    "3. Conditional statements: **if-elif-else**\n",
    "4. Functions: **range(), len(), print()**\n",
    "\n",
    "## Tasks\n",
    "\n",
    "#### 1. Create two variables called `gandalf` and `saruman` and assign them the spell power lists. Create a variable called `spells` to store the number of spells that the sorcerers cast. "
   ],
   "metadata": {}
  },
  {
   "cell_type": "code",
   "execution_count": 6,
   "source": [
    "gandalf = [10, 11, 13, 30, 22, 11, 10, 33, 22, 22]\r\n",
    "saruman = [23, 66, 12, 43, 12, 10, 44, 23, 12, 17]\r\n",
    "spells = 10\r\n"
   ],
   "outputs": [],
   "metadata": {}
  },
  {
   "cell_type": "markdown",
   "source": [
    "#### 2. Create two variables called `gandalf_wins` and `saruman_wins`. Set both of them to 0. \n",
    "You will use these variables to count the number of clashes each sorcerer wins. "
   ],
   "metadata": {}
  },
  {
   "cell_type": "code",
   "execution_count": 9,
   "source": [
    "GandalfWins = 0\r\n",
    "SarumanWins = 0\r\n",
    "Tie = 0\r\n"
   ],
   "outputs": [],
   "metadata": {}
  },
  {
   "cell_type": "markdown",
   "source": [
    "#### 3. Using the lists of spells of both sorcerers, update variables `gandalf_wins` and `saruman_wins` to count the number of times each sorcerer wins a clash. "
   ],
   "metadata": {}
  },
  {
   "cell_type": "code",
   "execution_count": 10,
   "source": [
    "i = 0\r\n",
    "while i < spells:\r\n",
    "    if gandalf[i] > saruman[i]:\r\n",
    "        GandalfWins = GandalfWins + 1\r\n",
    "    if saruman[i] > gandalf[i]:\r\n",
    "        SarumanWins = SarumanWins + 1\r\n",
    "    if  gandalf[i] == saruman[i]:\r\n",
    "        Tie = Tie + 1 \r\n",
    "    i = i + 1\r\n",
    "        \r\n"
   ],
   "outputs": [],
   "metadata": {}
  },
  {
   "cell_type": "markdown",
   "source": [
    "#### 4. Who won the battle?\n",
    "Print `Gandalf wins`, `Saruman wins` or `Tie` depending on the result. "
   ],
   "metadata": {}
  },
  {
   "cell_type": "code",
   "execution_count": 13,
   "source": [
    "if SarumanWins > GandalfWins:\r\n",
    "    print(\"El ganador fue Saruman , número de aciertos \" + str(SarumanWins) + \" aciertos\" )\r\n",
    "\r\n",
    "if GandalfWins > SarumanWins:\r\n",
    "    print(\"El ganador fue Gandalf con \" + str(GandalfWins) + \" aciertos\")\r\n",
    "\r\n",
    "if GandalfWins == SarumanWins:\r\n",
    "    print(\"Los hechizeros han quedado empatados\")\r\n"
   ],
   "outputs": [
    {
     "output_type": "stream",
     "name": "stdout",
     "text": [
      "El ganador fue Gandalf con 6 aciertos\n"
     ]
    }
   ],
   "metadata": {}
  },
  {
   "cell_type": "markdown",
   "source": [
    "## Bonus\n",
    "\n",
    "In this bonus challenge, you'll need to check the winner of the battle but this time, a sorcerer wins if he succeeds in winning 3 spell clashes in a row.\n",
    "\n",
    "Also, the spells now have a name and there is a dictionary that associates that name to a power.\n",
    "\n",
    "```\n",
    "POWER = {\n",
    "    'Fireball': 50, \n",
    "    'Lightning bolt': 40, \n",
    "    'Magic arrow': 10, \n",
    "    'Black Tentacles': 25, \n",
    "    'Contagion': 45\n",
    "}\n",
    "\n",
    "gandalf = ['Fireball', 'Lightning bolt', 'Lightning bolt', 'Magic arrow', 'Fireball', \n",
    "           'Magic arrow', 'Lightning bolt', 'Fireball', 'Fireball', 'Fireball']\n",
    "saruman = ['Contagion', 'Contagion', 'Black Tentacles', 'Fireball', 'Black Tentacles', \n",
    "           'Lightning bolt', 'Magic arrow', 'Contagion', 'Magic arrow', 'Magic arrow']\n",
    "```\n",
    "\n",
    "#### 1. Create variables `POWER`, `gandalf` and `saruman` as seen above. Create a variable called `spells` to store the number of spells that the sorcerers cast. "
   ],
   "metadata": {}
  },
  {
   "cell_type": "code",
   "execution_count": 14,
   "source": [
    "PODER = {\r\n",
    "    'Bola de fuego': 50, \r\n",
    "    'Rayo': 40, \r\n",
    "    'Flecha mágica': 10, \r\n",
    "    'Tentáculos negros': 25, \r\n",
    "    \"Contagio\": 45\r\n",
    "}\r\n",
    "gandalf = ['Bola de fuego', 'Rayo', 'Rayo', 'Flecha mágica', 'Bola de fuego', \r\n",
    "           'Flecha mágica', 'Rayo', 'Bola de fuego', 'Bola de fuego', 'Bola de fuego']\r\n",
    "saruman = ['Contagio', 'Contagio', 'Tentáculos negros', 'Bola de fuego', 'Tentáculos negros', \r\n",
    "           'Rayo', 'Flecha mágica', 'Contagio', 'Flecha mágica', 'Flecha mágica']"
   ],
   "outputs": [],
   "metadata": {}
  },
  {
   "cell_type": "markdown",
   "source": [
    "#### 2. Create two variables called `gandalf_wins` and `saruman_wins`. Set both of them to 0. "
   ],
   "metadata": {}
  },
  {
   "cell_type": "code",
   "execution_count": 15,
   "source": [
    "GandalfWins = 0\r\n",
    "SarumanWins = 0"
   ],
   "outputs": [],
   "metadata": {}
  },
  {
   "cell_type": "markdown",
   "source": [
    "#### 3. Create two variables called `gandalf_power` and `saruman_power` to store the list of spell powers of each sorcerer."
   ],
   "metadata": {}
  },
  {
   "cell_type": "code",
   "execution_count": 16,
   "source": [
    "GandalfPower = 0\r\n",
    "SarumanPower = 0\r\n"
   ],
   "outputs": [],
   "metadata": {}
  },
  {
   "cell_type": "markdown",
   "source": [
    "#### 4. The battle starts! Using the variables you've created above, code the execution of spell clashes. Remember that a sorcerer wins if he succeeds in winning 3 spell clashes in a row. \n",
    "If a clash ends up in a tie, the counter of wins in a row is not restarted to 0. Remember to print who is the winner of the battle. "
   ],
   "metadata": {}
  },
  {
   "cell_type": "code",
   "execution_count": 18,
   "source": [
    "ContadorHechizosLanzados  = 0\r\n",
    "while ContadorHechizosLanzados < 10:\r\n",
    "    ValorGandalf = gandalf[ContadorHechizosLanzados]\r\n",
    "    ValorSaruman = saruman[ContadorHechizosLanzados]\r\n",
    "    \r\n",
    "    if PODER[ValorGandalf] > PODER[ValorSaruman]:\r\n",
    "        GandalfWins = GandalfWins + 1\r\n",
    "        GandalfPower = GandalfPower + 1\r\n",
    "        SarumanPower = 0\r\n",
    "    \r\n",
    "    if PODER[ValorGandalf] < PODER[ValorSaruman]:\r\n",
    "        SarumanWins = SarumanWins + 1\r\n",
    "        SarumanPower = SarumanPower + 1\r\n",
    "        GandalfPower = 0\r\n",
    "\r\n",
    "    if SarumanPower == 3:\r\n",
    "        ContadorHechizosLanzados = 10\r\n",
    "        print(\"El gandador es Saruman \")\r\n",
    "\r\n",
    "    if GandalfPower == 3:\r\n",
    "        ContadorHechizosLanzados = 10\r\n",
    "        print(\"El ganador es Gandalf \")\r\n",
    "    \r\n",
    "    ContadorHechizosLanzados = ContadorHechizosLanzados +1\r\n"
   ],
   "outputs": [
    {
     "output_type": "stream",
     "name": "stdout",
     "text": [
      "El ganador es Gandalf \n"
     ]
    }
   ],
   "metadata": {}
  },
  {
   "cell_type": "markdown",
   "source": [
    "#### 5. Find the average spell power of Gandalf and Saruman. "
   ],
   "metadata": {}
  },
  {
   "cell_type": "code",
   "execution_count": 20,
   "source": [
    "MediaSaruman = 0\r\n",
    "MediaGandalf = 0\r\n",
    "SumaSaruman = 0\r\n",
    "SumaGandalf = 0\r\n",
    "ContadorHechizosLanzados  = 0\r\n",
    "NumeroHechizosLanzados = 0\r\n",
    "\r\n",
    "while ContadorHechizosLanzados < 10:\r\n",
    "    ValorGandalf = gandalf[ContadorHechizosLanzados]\r\n",
    "    ValorSaruman = saruman[ContadorHechizosLanzados]\r\n",
    "    NumeroHechizosLanzados = NumeroHechizosLanzados + 1\r\n",
    "    \r\n",
    "    SumaGandalf = SumaGandalf + PODER[ValorGandalf]\r\n",
    "    SumaSaruman = SumaSaruman + PODER[ValorSaruman]\r\n",
    "\r\n",
    "    if PODER[ValorGandalf] > PODER[ValorSaruman]:\r\n",
    "        GandalfWins = GandalfWins + 1\r\n",
    "        GandalfPower = GandalfPower + 1\r\n",
    "        SarumanPower = 0\r\n",
    "    \r\n",
    "    if PODER[ValorGandalf] < PODER[ValorSaruman]:\r\n",
    "        SarumanWins = SarumanWins + 1\r\n",
    "        SarumanPower = SarumanPower + 1\r\n",
    "        GandalfPower = 0\r\n",
    "\r\n",
    "    if SarumanPower == 3:\r\n",
    "        ContadorHechizosLanzados = 10\r\n",
    "      \r\n",
    "    if GandalfPower == 3:\r\n",
    "        ContadorHechizosLanzados = 10\r\n",
    "            \r\n",
    "    ContadorHechizosLanzados = ContadorHechizosLanzados +1\r\n",
    "\r\n",
    "MediaSaruman = SumaSaruman/NumeroHechizosLanzados\r\n",
    "MediaGandalf = SumaGandalf/NumeroHechizosLanzados\r\n",
    "\r\n",
    "print(\"la media de poder de Gandalf es \" + str(MediaGandalf))\r\n",
    "print(\"La media de poder de Saruman es \" + str(MediaSaruman))"
   ],
   "outputs": [
    {
     "output_type": "stream",
     "name": "stdout",
     "text": [
      "la media de poder de Gandalf es 37.77777777777778\n",
      "La media de poder de Saruman es 32.77777777777778\n"
     ]
    }
   ],
   "metadata": {}
  },
  {
   "cell_type": "markdown",
   "source": [
    "#### 6. Find the standard deviation of the spell power of Gandalf and Saruman. "
   ],
   "metadata": {}
  },
  {
   "cell_type": "code",
   "execution_count": 23,
   "source": [
    "import math\r\n",
    "\r\n",
    "SumatoriaMediaGandalf = 0\r\n",
    "SumatoriaMediaSaruman = 0\r\n",
    "ContadorHechizosLanzados = 0\r\n",
    "while ContadorHechizosLanzados < 10:\r\n",
    "   ValorGandalf = gandalf[ContadorHechizosLanzados]\r\n",
    "   ValorSaruman = saruman[ContadorHechizosLanzados]\r\n",
    "   \r\n",
    "   SumatoriaMediaGandalf = SumatoriaMediaGandalf + PODER[ValorGandalf]\r\n",
    "   SumatoriaMediaSaruman = SumatoriaMediaSaruman + PODER[ValorSaruman] \r\n",
    "   ContadorHechizosLanzados = ContadorHechizosLanzados + 1\r\n",
    "\r\n",
    "DesviacionEstandarGandalf = math.sqrt(math.pow(SumatoriaMediaGandalf,2)/10)\r\n",
    "DesviacionEstandarSaruman = math.sqrt(math.pow(SumatoriaMediaSaruman,2)/10)\r\n",
    "\r\n",
    "print(\"La desviación estandar Gandalf es \"+ str(DesviacionEstandarGandalf))\r\n",
    "print(\"La desviación estandar de Saruman es \"+ str(DesviacionEstandarSaruman))\r\n"
   ],
   "outputs": [
    {
     "output_type": "stream",
     "name": "stdout",
     "text": [
      "La desviación estandar Gandalf es 123.3288287465668\n",
      "La desviación estandar de Saruman es 96.44946863513557\n"
     ]
    }
   ],
   "metadata": {}
  }
 ],
 "metadata": {
  "kernelspec": {
   "name": "python3",
   "display_name": "Python 3.9.6 64-bit"
  },
  "language_info": {
   "codemirror_mode": {
    "name": "ipython",
    "version": 3
   },
   "file_extension": ".py",
   "mimetype": "text/x-python",
   "name": "python",
   "nbconvert_exporter": "python",
   "pygments_lexer": "ipython3",
   "version": "3.9.6"
  },
  "interpreter": {
   "hash": "2e3c1e8da6e821b0193601da5a0e541c0efda9704da45b6b820f5f4c317f2def"
  }
 },
 "nbformat": 4,
 "nbformat_minor": 2
}