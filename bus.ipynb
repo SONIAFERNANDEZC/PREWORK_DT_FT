{
 "cells": [
  {
   "cell_type": "markdown",
   "source": [
    "<img src=\"https://bit.ly/2VnXWr2\" width=\"100\" align=\"left\">"
   ],
   "metadata": {}
  },
  {
   "cell_type": "markdown",
   "source": [
    "# Bus\n",
    "\n",
    "This bus has a passenger entry and exit control system to monitor the number of occupants it carries and thus detect when there are too many.\n",
    "\n",
    "At each stop, the entry and exit of passengers is represented by a tuple consisting of two integer numbers.\n",
    "```\n",
    "bus_stop = (in, out)\n",
    "```\n",
    "The succession of stops is represented by a list of these tuples.\n",
    "```\n",
    "stops = [(in1, out1), (in2, out2), (in3, out3), (in4, out4)]\n",
    "```\n",
    "\n",
    "## Tools\n",
    "You don't necessarily need to use all the tools. Maybe you opt to use some of them or completely different ones, they are given to help you shape the exercise. Programming exercises can be solved in many different ways.\n",
    "* Data structures: **lists, tuples**\n",
    "* Loop: **while/for loops**\n",
    "* Functions: **min, max, len**\n",
    "\n",
    "## Tasks"
   ],
   "metadata": {}
  },
  {
   "cell_type": "code",
   "execution_count": 1,
   "source": [
    "# Variables\r\n",
    "stops = [(10, 0), (4, 1), (3, 5), (3, 4), (5, 1), (1, 5), (5, 8), (4, 6), (2, 3)]"
   ],
   "outputs": [],
   "metadata": {}
  },
  {
   "cell_type": "markdown",
   "source": [
    "#### 1. Calculate the number of stops."
   ],
   "metadata": {}
  },
  {
   "cell_type": "code",
   "execution_count": 16,
   "source": [
    "NumeroDuplas = 0\r\n",
    "for element in stops:\r\n",
    "    NumeroDuplas += 1\r\n",
    "print(\"El número de paradas son \" + str(NumeroDuplas))"
   ],
   "outputs": [
    {
     "output_type": "stream",
     "name": "stdout",
     "text": [
      "El número de paradas son 9\n"
     ]
    }
   ],
   "metadata": {}
  },
  {
   "cell_type": "markdown",
   "source": [
    "#### 2. Assign to a variable a list whose elements are the number of passengers at each stop (in-out).\n",
    "Each item depends on the previous item in the list + in - out."
   ],
   "metadata": {}
  },
  {
   "cell_type": "code",
   "execution_count": 18,
   "source": [
    "CantidadPasajerosBus = 0\r\n",
    "for indice, item in enumerate(stops, 1):\r\n",
    "   CantidadPasajerosBus = CantidadPasajerosBus + (item[0] - item[1])\r\n",
    "   print(\"Cantidad pasajeros \" +str(CantidadPasajerosBus))"
   ],
   "outputs": [
    {
     "output_type": "stream",
     "name": "stdout",
     "text": [
      "Cantidad pasajeros 10\n",
      "Cantidad pasajeros 13\n",
      "Cantidad pasajeros 11\n",
      "Cantidad pasajeros 10\n",
      "Cantidad pasajeros 14\n",
      "Cantidad pasajeros 10\n",
      "Cantidad pasajeros 7\n",
      "Cantidad pasajeros 5\n",
      "Cantidad pasajeros 4\n"
     ]
    }
   ],
   "metadata": {}
  },
  {
   "cell_type": "markdown",
   "source": [
    "#### 3. Find the maximum occupation of the bus."
   ],
   "metadata": {}
  },
  {
   "cell_type": "code",
   "execution_count": null,
   "source": [
    "CantidadPasajerosBus = 0\r\n",
    "MaximaOcupacion = 0\r\n",
    "for indice, item in enumerate(stops, 1):\r\n",
    "   CantidadPasajerosBus = CantidadPasajerosBus + (item[0] - item[1])\r\n",
    "   if(MaximaOcupacion < CantidadPasajerosBus):\r\n",
    "       MaximaOcupacion = CantidadPasajerosBus\r\n",
    "\r\n",
    "print(\"La maxima ocupacion fue de \" + str(MaximaOcupacion))"
   ],
   "outputs": [],
   "metadata": {}
  },
  {
   "cell_type": "markdown",
   "source": [
    "#### 4. Calculate the average occupation. And the standard deviation."
   ],
   "metadata": {}
  },
  {
   "cell_type": "code",
   "execution_count": 22,
   "source": [
    "import math\r\n",
    "CantidadPasajerosBus = 0\r\n",
    "MediaPasajeros = 0\r\n",
    "DesviacionPasajeros = 0\r\n",
    "for indice, item in enumerate(stops, 1):\r\n",
    "   CantidadPasajerosBus = CantidadPasajerosBus + (item[0] - item[1])\r\n",
    "   \r\n",
    "MediaPasajeros = CantidadPasajerosBus/len(stops)\r\n",
    "\r\n",
    "print(\"La media de pasajeros fue de \" + str(MediaPasajeros))\r\n",
    "\r\n",
    "SumatoriaMedia = 0\r\n",
    "for indice, item in enumerate(stops, 1):\r\n",
    "       SumatoriaMedia = SumatoriaMedia + ((item[0] - item[1]) - MediaPasajeros)\r\n",
    "DesviacionEstandar = math.sqrt(math.pow(SumatoriaMedia,2)/len(stops))\r\n",
    "print(\"La desviación estandar es \"  + str(DesviacionEstandar))\r\n"
   ],
   "outputs": [
    {
     "output_type": "stream",
     "name": "stdout",
     "text": [
      "La media de pasajeros fue de 0.4444444444444444\n",
      "La desviación estandar es 5.181040781584064e-16\n"
     ]
    }
   ],
   "metadata": {}
  }
 ],
 "metadata": {
  "kernelspec": {
   "name": "python3",
   "display_name": "Python 3.9.6 64-bit"
  },
  "language_info": {
   "codemirror_mode": {
    "name": "ipython",
    "version": 3
   },
   "file_extension": ".py",
   "mimetype": "text/x-python",
   "name": "python",
   "nbconvert_exporter": "python",
   "pygments_lexer": "ipython3",
   "version": "3.9.6"
  },
  "interpreter": {
   "hash": "2e3c1e8da6e821b0193601da5a0e541c0efda9704da45b6b820f5f4c317f2def"
  }
 },
 "nbformat": 4,
 "nbformat_minor": 2
}