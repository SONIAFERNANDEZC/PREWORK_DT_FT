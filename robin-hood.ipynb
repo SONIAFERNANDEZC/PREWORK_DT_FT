{
 "cells": [
  {
   "cell_type": "markdown",
   "source": [
    "<img src=\"https://bit.ly/2VnXWr2\" width=\"100\" align=\"left\"/>"
   ],
   "metadata": {}
  },
  {
   "cell_type": "markdown",
   "source": [
    "# Robin Hood\n",
    "Robin Hood has entered a competition to win the archery contest in Sherwood. With his bow and arrows, he needs to shoot on a target and try to hit as close as possible to the center.\n",
    "\n",
    "![](images/arrows.jpg)\n",
    "\n",
    "## Context\n",
    "In this challenge, the landing position of arrows shot by archers in the competition will be represented using 2-dimensional coordinates. \n",
    "\n",
    "In the 2-dimensional space, a point can be defined by a pair of values that correspond to the horizontal coordinate (x) and the vertical coordinate (y). For example, in our case, an arrow that hits the center of the archery target will land in position (0, 0) on the coordinate axes. \n",
    "\n",
    "The space can be divided into 4 zones (quadrants): Q1, Q2, Q3, Q4. If a point is in Q1, both its x coordinate and y coordinate are positive. Any point with a null x or y coordinate is considered to not belong to any quadrant. \n",
    "\n",
    "If you want to know more about the cartesian coordinate system, you can check this [link](https://en.wikipedia.org/wiki/Cartesian_coordinate_system). \n",
    "\n",
    "## Tools\n",
    "You don't necessarily need to use all the tools. Maybe you opt to use some of them or completely different ones, they are given to help you shape the exercise. Programming exercises can be solved in many different ways.\n",
    "* Data structures: **lists, sets, tuples**\n",
    "* Conditional statements: **if-elif-else**\n",
    "* Loop: **while/for**\n",
    "* Minimum (optional sorting)\n",
    "\n",
    "## Tasks\n",
    "Robin Hood has hit the following points:"
   ],
   "metadata": {}
  },
  {
   "cell_type": "code",
   "execution_count": 2,
   "source": [
    "points = [(4, 5), (-0, 2), (4, 7), (1, -3), (3, -2), (4, 5), (3, 2), (5, 7), (-5, 7), (2, 2), (-4, 5), (0, -2),\r\n",
    "          (-4, 7), (-1, 3), (-3, 2), (-4, -5), (-3, 2), (5, 7), (5, 7), (2, 2), (9, 9), (-8, -9)]"
   ],
   "outputs": [],
   "metadata": {}
  },
  {
   "cell_type": "markdown",
   "source": [
    "#### 1. Robin Hood is famous for hitting an arrow with another arrow. Find the coordinates of the points where an arrow hits another arrow."
   ],
   "metadata": {}
  },
  {
   "cell_type": "code",
   "execution_count": 3,
   "source": [
    "TotaLista = 0\r\n",
    "Sublista = 0\r\n",
    "MismaDiana = \"\"\r\n",
    "Lista_repetidos = list()\r\n",
    "while TotaLista < len(points)-2:\r\n",
    "    Sublista = TotaLista +1\r\n",
    "    while Sublista < len(points)-2:        \r\n",
    "        if(points[TotaLista] == points[Sublista]):\r\n",
    "            NumeroLista = 0\r\n",
    "            EsRepetido = False;\r\n",
    "            if len(Lista_repetidos) == 0:\r\n",
    "                Lista_repetidos.append(points[TotaLista])\r\n",
    "            else:\r\n",
    "                while NumeroLista <= len(Lista_repetidos)-1:\r\n",
    "                    if Lista_repetidos[NumeroLista] == points[TotaLista]:\r\n",
    "                        EsRepetido = True\r\n",
    "                    NumeroLista = NumeroLista +1\r\n",
    "                if EsRepetido == False:\r\n",
    "                    Lista_repetidos.append(points[TotaLista])            \r\n",
    "        Sublista = Sublista +1\r\n",
    "    TotaLista = TotaLista + 1\r\n",
    "\r\n",
    "for datoLista in Lista_repetidos:\r\n",
    "    if(MismaDiana != \"\"):\r\n",
    "        MismaDiana = MismaDiana + \",\"      \r\n",
    "    MismaDiana = MismaDiana + str(datoLista)\r\n",
    "\r\n",
    "print(\"Misma diana \" + MismaDiana)"
   ],
   "outputs": [
    {
     "output_type": "stream",
     "name": "stdout",
     "text": [
      "Misma diana (4, 5),(5, 7),(2, 2),(-3, 2)\n"
     ]
    }
   ],
   "metadata": {}
  },
  {
   "cell_type": "markdown",
   "source": [
    "#### 2. Calculate how many arrows have fallen in each quadrant. \n",
    "**Note**: the arrows that fall in the axis (x=0 or y=0) don't belong to any quadrant."
   ],
   "metadata": {}
  },
  {
   "cell_type": "code",
   "execution_count": 4,
   "source": [
    "TotaLista  = 0\r\n",
    "Cuadrante1 = 0\r\n",
    "Cuadrante2 = 0\r\n",
    "Cuadrante3 = 0\r\n",
    "Cuadrante4 = 0\r\n",
    "while TotaLista < len(points)-1:\r\n",
    "   if points[TotaLista][0] > 0:\r\n",
    "      if points[TotaLista][1] >0:\r\n",
    "         Cuadrante1 = Cuadrante1 +1\r\n",
    "      else:\r\n",
    "             if points[TotaLista][1]< 0:\r\n",
    "                    Cuadrante2 = Cuadrante2 +1\r\n",
    "   else:\r\n",
    "        if points[TotaLista][0] < 0:\r\n",
    "               if points[TotaLista][1] >0:\r\n",
    "                      Cuadrante4 = Cuadrante4 +1\r\n",
    "               else:\r\n",
    "                      if points[TotaLista][1] < 0:\r\n",
    "                             Cuadrante3 = Cuadrante3 +1 \r\n",
    "\r\n",
    "   TotaLista = TotaLista + 1\r\n",
    "print (\"aciertos cuadrante 1 \" + str(Cuadrante1))\r\n",
    "print (\"aciertos cuadrante 2 \" + str(Cuadrante2))\r\n",
    "print (\"aciertos cuadrante 3 \" + str(Cuadrante3))\r\n",
    "print (\"aciertos cuadrante 4 \" + str(Cuadrante4))"
   ],
   "outputs": [
    {
     "output_type": "stream",
     "name": "stdout",
     "text": [
      "aciertos cuadrante 1 10\n",
      "aciertos cuadrante 2 2\n",
      "aciertos cuadrante 3 1\n",
      "aciertos cuadrante 4 6\n"
     ]
    }
   ],
   "metadata": {}
  },
  {
   "cell_type": "markdown",
   "source": [
    "#### 3. Find the point closest to the center. Calculate its distance to the center. \n",
    "Take into account that there might be more than one point at the minimum distance to the center.\n",
    "\n",
    "**Hint**: Use the Euclidean distance. You can find more information about it [here](https://en.wikipedia.org/wiki/Euclidean_distance).  \n",
    "**Hint**: Defining a function that calculates the distance to the center can help."
   ],
   "metadata": {}
  },
  {
   "cell_type": "code",
   "execution_count": 19,
   "source": [
    "TotaLista  = 0\r\n",
    "DistanciaFinal = 0\r\n",
    "Distancia = 0\r\n",
    "PuntoCercano = (0,0)\r\n",
    "\r\n",
    "def RetornaDistancia(PuntoCentro, PuntoCalcular):\r\n",
    "    from math import dist       \r\n",
    "    return dist(PuntoCalcular,PuntoCentro)      \r\n",
    "     \r\n",
    "while TotaLista < len(points)-1:\r\n",
    "    Punto_1 = (0,0)\r\n",
    "    Punto_2 = points[TotaLista]\r\n",
    "    if(DistanciaFinal == 0):\r\n",
    "       DistanciaFinal = RetornaDistancia(Punto_1, Punto_2)\r\n",
    "       PuntoCercano = Punto_2\r\n",
    "    else:\r\n",
    "        Distancia = RetornaDistancia(Punto_1, Punto_2)\r\n",
    "        if DistanciaFinal > Distancia:\r\n",
    "            DistanciaFinal = Distancia\r\n",
    "            PuntoCercano = Punto_2\r\n",
    "    TotaLista = TotaLista + 1\r\n",
    "\r\n",
    "print (\"el punto mas cercano es :\" + str(PuntoCercano) + \" con una distancia de : \" + str(DistanciaFinal))\r\n"
   ],
   "outputs": [
    {
     "output_type": "stream",
     "name": "stdout",
     "text": [
      "el punto mas cercano es :(0, 2) con una distancia de : 2.0\n"
     ]
    }
   ],
   "metadata": {}
  },
  {
   "cell_type": "markdown",
   "source": [
    "#### 4. If the archery target has a radius of 9, calculate the number of arrows that won't hit the target. \n",
    "**Hint**: Use the function created in step 3. "
   ],
   "metadata": {}
  },
  {
   "cell_type": "code",
   "execution_count": 18,
   "source": [
    "TotaLista  = 0\r\n",
    "NumeroFlechasFuera = 0\r\n",
    "while TotaLista < len(points)-1:\r\n",
    "    Punto_1 = (0,0)  \r\n",
    "    Punto_2 = points[TotaLista]\r\n",
    "    DistanciaFinal = RetornaDistancia(Punto_1, Punto_2)\r\n",
    "    if(DistanciaFinal > 9):\r\n",
    "        NumeroFlechasFuera = NumeroFlechasFuera +1\r\n",
    "    TotaLista = TotaLista +1\r\n",
    "print(\"El número de flechas fuera es \" + str(NumeroFlechasFuera))"
   ],
   "outputs": [
    {
     "output_type": "stream",
     "name": "stdout",
     "text": [
      "El número de flechas fuera es 1\n"
     ]
    }
   ],
   "metadata": {}
  }
 ],
 "metadata": {
  "kernelspec": {
   "name": "python3",
   "display_name": "Python 3.9.6 64-bit"
  },
  "language_info": {
   "codemirror_mode": {
    "name": "ipython",
    "version": 3
   },
   "file_extension": ".py",
   "mimetype": "text/x-python",
   "name": "python",
   "nbconvert_exporter": "python",
   "pygments_lexer": "ipython3",
   "version": "3.9.6"
  },
  "interpreter": {
   "hash": "2e3c1e8da6e821b0193601da5a0e541c0efda9704da45b6b820f5f4c317f2def"
  }
 },
 "nbformat": 4,
 "nbformat_minor": 2
}