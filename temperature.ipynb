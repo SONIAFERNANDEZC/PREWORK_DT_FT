{
 "cells": [
  {
   "cell_type": "markdown",
   "source": [
    "<img src=\"https://bit.ly/2VnXWr2\" width=\"100\" align=\"left\">"
   ],
   "metadata": {}
  },
  {
   "cell_type": "markdown",
   "source": [
    "# Temperature Sensor\n",
    "\n",
    "There is a temperature sensor in the processor of your company's server. The company wants to analyze the data provided by the sensor to decide if they should change the cooling system for a better one. As changing the cooling system is expensive and you are an excellent data analyst, you can't make a decision without basis.\n",
    "\n",
    "## Tools\n",
    "You don't necessarily need to use all the tools. Maybe you opt to use some of them or completely different ones, they are given to help you shape the exercise. Programming exercises can be solved in many different ways.\n",
    "1. Data structures: **lists**\n",
    "2. Loops: **list comprehension**\n",
    "3. Functions: **min, max, print, len**\n",
    "4. Conditional statements: **if-elif-else**\n",
    "\n",
    "## Tasks\n",
    "The temperatures measured throughout the 24 hours of a day are:"
   ],
   "metadata": {}
  },
  {
   "cell_type": "code",
   "execution_count": 1,
   "source": [
    "temperatures_C = [33, 66, 65, 0, 59, 60, 62, 64, 70, 76, 80, 81, 80, 83, 90, 79, 61, 53, 50, 49, 53, 48, 45, 39]"
   ],
   "outputs": [],
   "metadata": {}
  },
  {
   "cell_type": "markdown",
   "source": [
    "The first element of the list is the temperature at 12am, the second element is the temperature at 1am, and so on. \n",
    "\n",
    "The company has decided that if one of the following events occurs, then the cooling system needs to be replaced for a new one to avoid damaging the processor.\n",
    "* More than 4 temperatures are greater than or equal to 70ºC.\n",
    "* Any temperature is above 80ºC.\n",
    "* The average temperature exceeds 65ºC.\n",
    "\n",
    "Follow the steps so that you can make the decision.\n",
    "\n",
    "#### 1. Find the minimum temperature of the day and store it in a variable."
   ],
   "metadata": {}
  },
  {
   "cell_type": "code",
   "execution_count": 3,
   "source": [
    "TemperaturaMinima = 0\r\n",
    "for ValorGrados in temperatures_C:\r\n",
    "    if TemperaturaMinima > ValorGrados:\r\n",
    "        TemperaturaMinima = ValorGrados\r\n",
    "\r\n",
    "print(\"Temperatura Minima \" + str(TemperaturaMinima))"
   ],
   "outputs": [
    {
     "output_type": "stream",
     "name": "stdout",
     "text": [
      "Temperatura Minima 0\n"
     ]
    }
   ],
   "metadata": {}
  },
  {
   "cell_type": "markdown",
   "source": [
    "#### 2. Find the maximum temperature of the day and store it in a variable."
   ],
   "metadata": {}
  },
  {
   "cell_type": "code",
   "execution_count": 4,
   "source": [
    "TemperaturaMaxima = 0\r\n",
    "for ValorGrados in temperatures_C:\r\n",
    "    if TemperaturaMaxima < ValorGrados:\r\n",
    "        TemperaturaMaxima = ValorGrados\r\n",
    "\r\n",
    "print(\"Temperatura Maxima \" + str(TemperaturaMaxima))"
   ],
   "outputs": [
    {
     "output_type": "stream",
     "name": "stdout",
     "text": [
      "Temperatura Maxima 90\n"
     ]
    }
   ],
   "metadata": {}
  },
  {
   "cell_type": "markdown",
   "source": [
    "#### 3. Create a list with the temperatures that are greater than or equal to 70ºC. Store it in a variable."
   ],
   "metadata": {}
  },
  {
   "cell_type": "code",
   "execution_count": 5,
   "source": [
    "lstTemperaturasAltas = list()\r\n",
    "for ValorGrados in temperatures_C:\r\n",
    "    if ValorGrados >= 70:\r\n",
    "        lstTemperaturasAltas.append(ValorGrados)\r\n",
    "\r\n",
    "print(\"Lista de temperaturas mayores a 70º \"+ str(lstTemperaturasAltas))"
   ],
   "outputs": [
    {
     "output_type": "stream",
     "name": "stdout",
     "text": [
      "Lista de temperaturas mayores a 70º [70, 76, 80, 81, 80, 83, 90, 79]\n"
     ]
    }
   ],
   "metadata": {}
  },
  {
   "cell_type": "markdown",
   "source": [
    "#### 4. Find the average temperature of the day and store it in a variable."
   ],
   "metadata": {}
  },
  {
   "cell_type": "code",
   "execution_count": 6,
   "source": [
    "MediaTemperatura = 0\r\n",
    "SumaTemperturas = 0\r\n",
    "for ValorGrados in temperatures_C:\r\n",
    "    SumaTemperturas = SumaTemperturas + ValorGrados\r\n",
    "\r\n",
    "MediaTemperatura = SumaTemperturas/len(temperatures_C)\r\n",
    "\r\n",
    "print(\"La media de la temperatura es \" + str(MediaTemperatura))"
   ],
   "outputs": [
    {
     "output_type": "stream",
     "name": "stdout",
     "text": [
      "La media de la temperatura es 60.25\n"
     ]
    }
   ],
   "metadata": {}
  },
  {
   "cell_type": "markdown",
   "source": [
    "#### 5. Imagine that there was a sensor failure at 3am and the data for that specific hour was not recorded. How would you estimate the missing value? Replace the current value of the list at 3am for an estimation. "
   ],
   "metadata": {}
  },
  {
   "cell_type": "code",
   "execution_count": 22,
   "source": [
    "TemperaturaPromedio = 0\r\n",
    "SumaTemperturas = 0\r\n",
    "for ValorGrados in temperatures_C:\r\n",
    "    if ValorGrados != 0:\r\n",
    "        SumaTemperturas = SumaTemperturas + ValorGrados\r\n",
    "\r\n",
    "TemperaturaPromedio = SumaTemperturas/len(temperatures_C)-1\r\n",
    "temperatures_C[3] = TemperaturaPromedio\r\n",
    "\r\n",
    "print(\"Se reemplaza el valor por el valor del prodio de la temperatura no teniendo el cuenta el valor erroneo \")"
   ],
   "outputs": [
    {
     "output_type": "stream",
     "name": "stdout",
     "text": [
      "Se reemplaza el valor por el valor del prodio de la temperatura no teniendo el cuenta el valor erroneo \n"
     ]
    }
   ],
   "metadata": {}
  },
  {
   "cell_type": "markdown",
   "source": [
    "#### 6. Bonus: the maintenance staff is from the United States and does not understand the international metric system. Help them by converting the temperatures from Celsius to Fahrenheit.\n",
    "To know more about temperature conversion check this [link](https://en.wikipedia.org/wiki/Conversion_of_units_of_temperature).\n",
    "\n",
    "**Formula**: \n",
    "\n",
    "$F = 1.8 * C + 32$"
   ],
   "metadata": {}
  },
  {
   "cell_type": "code",
   "execution_count": 9,
   "source": [
    "temperatures_f = list()\r\n",
    "for ValorGrados in temperatures_C:\r\n",
    "    ValorFahrenheit = 1.8 * ValorGrados +32\r\n",
    "    temperatures_f.append(ValorFahrenheit)\r\n"
   ],
   "outputs": [],
   "metadata": {}
  },
  {
   "cell_type": "markdown",
   "source": [
    "#### 7. Make a decision!\n",
    "Now it's time to make a decision taking into account what you have seen until now. \n",
    "\n",
    "Remember that if one of the following events occurs, then the cooling system needs to be replaced for a new one to avoid damaging the processor.\n",
    "* More than 4 temperatures are greater than or equal to 70ºC.\n",
    "* Any temperature is above 80ºC.\n",
    "* The average temperature exceeds 65ºC.\n",
    "\n",
    "#### To make your decision, check if any of the three conditions above is met. You might need to use some of the variables you created in steps 1 to 6. Print a message to show if the cooling system needs to be changed or not."
   ],
   "metadata": {}
  },
  {
   "cell_type": "code",
   "execution_count": 10,
   "source": [
    "CambiarRefrigeracion = False\r\n",
    "TemperaturaSuperior80 = False\r\n",
    "for Temp in lstTemperaturasAltas:\r\n",
    "    if(Temp >= 80):\r\n",
    "        TemperaturaSuperior80 = True\r\n",
    "\r\n",
    "if(MediaTemperatura > 65 or len(lstTemperaturasAltas) > 4 or TemperaturaSuperior80 ):\r\n",
    "    CambiarRefrigeracion = True\r\n",
    "\r\n",
    "if CambiarRefrigeracion:\r\n",
    "    print(\"Se debe cambiar el sistema de refrigeración\")\r\n",
    "else:\r\n",
    "    print(\"El sistema de refrigeracion funciona correctamente\")\r\n"
   ],
   "outputs": [
    {
     "output_type": "stream",
     "name": "stdout",
     "text": [
      "Se debe cambiar el sistema de refrigeración\n"
     ]
    }
   ],
   "metadata": {}
  },
  {
   "cell_type": "markdown",
   "source": [
    "## Bonus\n",
    "\n",
    "The company has decided that the decision you made is not valid. They want you to analyze the data again but this time, the conditions that need to be met in order to change the cooling system are different.\n",
    "\n",
    "This time, if one of the following events occurs, then the cooling system needs to be replaced:\n",
    "* The temperature is greater than 70ºC during more than 4 consecutive hours.\n",
    "* Any temperature is above 80ºC.\n",
    "* The average temperature exceeds 65ºC.\n",
    "\n",
    "Follow the steps so that you can make the decision.\n",
    "\n",
    "#### 1. Create a list with the hours where the temperature is greater than 70ºC. Store it in a variable."
   ],
   "metadata": {}
  },
  {
   "cell_type": "code",
   "execution_count": 14,
   "source": [
    "lstHorasTemperaturasAltas = list()\r\n",
    "HoraTemperatura = 0\r\n",
    "for ValorGrados in temperatures_C:\r\n",
    "    if ValorGrados >= 70:        \r\n",
    "        lstHorasTemperaturasAltas.append(HoraTemperatura)\r\n",
    "    HoraTemperatura = HoraTemperatura + 1\r\n",
    "\r\n",
    "print(\"Horas de temperaturas altas \" + str(lstHorasTemperaturasAltas))"
   ],
   "outputs": [
    {
     "output_type": "stream",
     "name": "stdout",
     "text": [
      "Horas de temperaturas altas [8, 9, 10, 11, 12, 13, 14, 15]\n"
     ]
    }
   ],
   "metadata": {}
  },
  {
   "cell_type": "markdown",
   "source": [
    "#### 2. Check if the list you created in step 1 has more than 4 consecutive hours. "
   ],
   "metadata": {}
  },
  {
   "cell_type": "code",
   "execution_count": 17,
   "source": [
    "NumeroConsecutivos = 0\r\n",
    "PocisionHora = 0\r\n",
    "while PocisionHora < len(lstHorasTemperaturasAltas) -1:\r\n",
    "    if lstHorasTemperaturasAltas[PocisionHora] +1 == lstHorasTemperaturasAltas[PocisionHora +1]:\r\n",
    "        NumeroConsecutivos = NumeroConsecutivos +1\r\n",
    "    PocisionHora = PocisionHora +1\r\n",
    "\r\n",
    "print(\"Numero de horas consecutivas \" + str(NumeroConsecutivos))"
   ],
   "outputs": [
    {
     "output_type": "stream",
     "name": "stdout",
     "text": [
      "Numero de horas consecutivas 7\n"
     ]
    }
   ],
   "metadata": {}
  },
  {
   "cell_type": "markdown",
   "source": [
    "#### 3. Make the decision!\n",
    "To make your decision, check if any of the three conditions is met. Print a message to show if the cooling system needs to be changed or not."
   ],
   "metadata": {}
  },
  {
   "cell_type": "code",
   "execution_count": 18,
   "source": [
    "CambiarRefrigeracion = False\r\n",
    "if(MediaTemperatura > 65 or NumeroConsecutivos > 4 or TemperaturaSuperior80 ):\r\n",
    "    CambiarRefrigeracion = True\r\n",
    "\r\n",
    "if CambiarRefrigeracion:\r\n",
    "    print(\"Se debe cambiar el sistema de refrigeración\")\r\n",
    "else:\r\n",
    "    print(\"El sistema de refrigeracion funciona correctamente\")"
   ],
   "outputs": [
    {
     "output_type": "stream",
     "name": "stdout",
     "text": [
      "Se debe cambiar el sistema de refrigeración\n"
     ]
    }
   ],
   "metadata": {}
  },
  {
   "cell_type": "markdown",
   "source": [
    "#### 4. Find the average value of the temperature lists (ºC and ºF). What is the relation between both average values?"
   ],
   "metadata": {}
  },
  {
   "cell_type": "code",
   "execution_count": 19,
   "source": [
    "MediaTemperaturaF = 0\r\n",
    "SumaTemperturasF = 0\r\n",
    "for ValorGrados in temperatures_f:\r\n",
    "    SumaTemperturasF = SumaTemperturasF + ValorGrados\r\n",
    "\r\n",
    "MediaTemperaturaF = SumaTemperturasF/len(temperatures_f)\r\n",
    "print(\"La media de temperatura en ºC \" + str(MediaTemperatura))\r\n",
    "print(\"La media de temperatura en ºF \" + str(MediaTemperaturaF))\r\n"
   ],
   "outputs": [
    {
     "output_type": "stream",
     "name": "stdout",
     "text": [
      "La media de temperatura en ºC 60.25\n",
      "La media de temperatura en ºF 144.96875\n"
     ]
    }
   ],
   "metadata": {}
  },
  {
   "cell_type": "markdown",
   "source": [
    "#### 5. Find the standard deviation of the temperature lists (ºC and ºF). What is the relation between both standard deviations?"
   ],
   "metadata": {}
  },
  {
   "cell_type": "code",
   "execution_count": 20,
   "source": [
    "import math\r\n",
    "#Desviacion estadar en ºC\r\n",
    "SumaTemperturas = 0\r\n",
    "for ValorGrados in temperatures_C:\r\n",
    "    SumaTemperturas = math.pow((ValorGrados - MediaTemperatura),2)\r\n",
    "\r\n",
    "DesvicionEstandar = math.sqrt(SumaTemperturas/len(temperatures_C))\r\n",
    "\r\n",
    "#Desviación estandar en ºF\r\n",
    "SumaTemperturas = 0\r\n",
    "for ValorGrados in temperatures_f:\r\n",
    "    SumaTemperturas = math.pow((ValorGrados - MediaTemperaturaF),2)\r\n",
    "\r\n",
    "DesvicionEstandarF = math.sqrt(SumaTemperturas/len(temperatures_f))\r\n",
    "\r\n",
    "print(\"Desviación estandar ºC \" + str(DesvicionEstandar))\r\n",
    "print(\"Desviación estandar ºF \" + str(DesvicionEstandarF))"
   ],
   "outputs": [
    {
     "output_type": "stream",
     "name": "stdout",
     "text": [
      "Desviación estandar ºC 4.337638086178544\n",
      "Desviación estandar ºF 8.73013453638817\n"
     ]
    }
   ],
   "metadata": {}
  }
 ],
 "metadata": {
  "kernelspec": {
   "name": "python3",
   "display_name": "Python 3.9.6 64-bit"
  },
  "language_info": {
   "codemirror_mode": {
    "name": "ipython",
    "version": 3
   },
   "file_extension": ".py",
   "mimetype": "text/x-python",
   "name": "python",
   "nbconvert_exporter": "python",
   "pygments_lexer": "ipython3",
   "version": "3.9.6"
  },
  "interpreter": {
   "hash": "2e3c1e8da6e821b0193601da5a0e541c0efda9704da45b6b820f5f4c317f2def"
  }
 },
 "nbformat": 4,
 "nbformat_minor": 2
}