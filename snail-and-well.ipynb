{
 "cells": [
  {
   "cell_type": "markdown",
   "source": [
    "<img src=\"https://bit.ly/2VnXWr2\" width=\"100\" align=\"left\">"
   ],
   "metadata": {}
  },
  {
   "cell_type": "markdown",
   "source": [
    "# The Snail and the Well\n",
    "\n",
    "A snail falls at the bottom of a 125 cm well. Each day the snail rises 30 cm. But at night, while sleeping, slides 20 cm because the walls are wet. How many days does it take for the snail to escape the well?\n",
    "\n",
    "**Hint**: The snail gets out of the well when it surpasses the 125cm of height.\n",
    "\n",
    "## Tools\n",
    "\n",
    "1. Loop: **while**\n",
    "2. Conditional statements: **if-else**\n",
    "3. Function: **print()**\n",
    "\n",
    "## Tasks\n",
    "\n",
    "#### 1. Assign the challenge data to variables with representative names: `well_height`, `daily_distance`, `nightly_distance` and `snail_position`."
   ],
   "metadata": {}
  },
  {
   "cell_type": "code",
   "execution_count": 2,
   "source": [
    "PosicionCaracol = 0\r\n",
    "AlturaPozo = 125\r\n",
    "DistanciaDiaria = 30\r\n",
    "DistanciaNocturna = 20\r\n"
   ],
   "outputs": [],
   "metadata": {}
  },
  {
   "cell_type": "markdown",
   "source": [
    "#### 2. Create a variable `days` to keep count of the days that pass until the snail escapes the well. "
   ],
   "metadata": {}
  },
  {
   "cell_type": "code",
   "execution_count": 3,
   "source": [
    "Dias = 0"
   ],
   "outputs": [],
   "metadata": {}
  },
  {
   "cell_type": "markdown",
   "source": [
    "#### 3. Find the solution to the challenge using the variables defined above. "
   ],
   "metadata": {}
  },
  {
   "cell_type": "code",
   "execution_count": 4,
   "source": [
    "\r\n",
    "while PosicionCaracol < AlturaPozo:\r\n",
    "    PosicionCaracol = (PosicionCaracol + DistanciaDiaria) - DistanciaNocturna\r\n",
    "    Dias = Dias + 1 "
   ],
   "outputs": [],
   "metadata": {}
  },
  {
   "cell_type": "markdown",
   "source": [
    "#### 4. Print the solution."
   ],
   "metadata": {}
  },
  {
   "cell_type": "code",
   "execution_count": 5,
   "source": [
    "print (\"El número de dias fue \" + str(Dias))"
   ],
   "outputs": [
    {
     "output_type": "stream",
     "name": "stdout",
     "text": [
      "El número de dias fue 13\n"
     ]
    }
   ],
   "metadata": {}
  },
  {
   "cell_type": "markdown",
   "source": [
    "## Bonus\n",
    "The distance traveled by the snail each day is now defined by a list.\n",
    "```\n",
    "advance_cm = [30, 21, 33, 77, 44, 45, 23, 45, 12, 34, 55]\n",
    "```\n",
    "On the first day, the snail rises 30cm but during the night it slides 20cm. On the second day, the snail rises 21cm but during the night it slides 20cm, and so on. \n",
    "\n",
    "#### 1. How many days does it take for the snail to escape the well?\n",
    "Follow the same guidelines as in the previous challenge.\n",
    "\n",
    "**Hint**: Remember that the snail gets out of the well when it surpasses the 125cm of height."
   ],
   "metadata": {}
  },
  {
   "cell_type": "code",
   "execution_count": 6,
   "source": [
    "PosicionCaracol = 0\r\n",
    "\r\n",
    "Dias = 0\r\n",
    "AlturaPozo = 125\r\n",
    "advance_cm = [30, 21, 33, 77, 44, 45, 23, 45, 12, 34, 55]\r\n",
    "DistanciaNocturna = 20\r\n",
    "while PosicionCaracol < AlturaPozo:\r\n",
    "    PosicionCaracol = (PosicionCaracol + advance_cm[Dias]) - DistanciaNocturna\r\n",
    "    Dias = Dias + 1 \r\n",
    "\r\n",
    "print (\"El número de dias fue \" + str(Dias))"
   ],
   "outputs": [
    {
     "output_type": "stream",
     "name": "stdout",
     "text": [
      "El número de dias fue 6\n"
     ]
    }
   ],
   "metadata": {}
  },
  {
   "cell_type": "markdown",
   "source": [
    "#### 2. What is its maximum displacement in one day? And its minimum? Calculate the displacement using only the travel distance of the days used to get out of the well. \n",
    "**Hint**: Remember that displacement means the total distance risen taking into account that the snail slides at night.  "
   ],
   "metadata": {}
  },
  {
   "cell_type": "code",
   "execution_count": 7,
   "source": [
    "Posicion = 0\r\n",
    "Dias = 0\r\n",
    "AlturaPozo = 125\r\n",
    "Maximo = 0\r\n",
    "Minimo = 0\r\n",
    "while PosicionCaracol < AlturaPozo:\r\n",
    "    PosicionCaracol = (PosicionCaracol + advance_cm[Dias]) - DistanciaNocturna\r\n",
    "    Posicion =  advance_cm[Dias] - DistanciaNocturna\r\n",
    "    Dias = Dias + 1\r\n",
    "\r\n",
    "    if Maximo < Posicion:\r\n",
    "        Maximo = Posicion\r\n",
    "\r\n",
    "    if Minimo == 0:\r\n",
    "        Minimo =  Posicion\r\n",
    "        \r\n",
    "    if Minimo > Posicion:\r\n",
    "        Minimo = Posicion\r\n",
    "\r\n",
    "\r\n",
    "\r\n",
    "\r\n"
   ],
   "outputs": [],
   "metadata": {}
  },
  {
   "cell_type": "markdown",
   "source": [
    "#### 3. What is its average progress? Take into account the snail slides at night."
   ],
   "metadata": {}
  },
  {
   "cell_type": "code",
   "execution_count": 8,
   "source": [
    "media = 0\r\n",
    "media = PosicionCaracol/(Dias + 1)"
   ],
   "outputs": [],
   "metadata": {}
  },
  {
   "cell_type": "markdown",
   "source": [
    "#### 4. What is the standard deviation of its displacement? Take into account the snail slides at night."
   ],
   "metadata": {}
  },
  {
   "cell_type": "code",
   "execution_count": 9,
   "source": [
    "import math\r\n",
    "DesviacionEstandar = 0\r\n",
    "SumatoriaMedia = 0\r\n",
    "for Posicion in advance_cm:\r\n",
    "   SumatoriaMedia = SumatoriaMedia + (Posicion - media)\r\n",
    "DesviacionEstandar = math.sqrt(math.pow(SumatoriaMedia,2)/(Dias + 1))\r\n",
    "\r\n"
   ],
   "outputs": [],
   "metadata": {}
  }
 ],
 "metadata": {
  "kernelspec": {
   "name": "python3",
   "display_name": "Python 3.9.6 64-bit"
  },
  "language_info": {
   "codemirror_mode": {
    "name": "ipython",
    "version": 3
   },
   "file_extension": ".py",
   "mimetype": "text/x-python",
   "name": "python",
   "nbconvert_exporter": "python",
   "pygments_lexer": "ipython3",
   "version": "3.9.6"
  },
  "interpreter": {
   "hash": "2e3c1e8da6e821b0193601da5a0e541c0efda9704da45b6b820f5f4c317f2def"
  }
 },
 "nbformat": 4,
 "nbformat_minor": 2
}