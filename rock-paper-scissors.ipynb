{
 "cells": [
  {
   "cell_type": "markdown",
   "source": [
    "<img src=\"https://bit.ly/2VnXWr2\" width=\"100\" align=\"left\">"
   ],
   "metadata": {}
  },
  {
   "cell_type": "markdown",
   "source": [
    "# Rock, Paper & Scissors\n",
    "\n",
    "Let's play the famous game against our computer. You can check the rules [here](https://en.wikipedia.org/wiki/Rock%E2%80%93paper%E2%80%93scissors). \n",
    "\n",
    "## Task\n",
    "Create a program that imitates the playability of the well known game of rock, paper, scissors. Follow the guidelines provided.\n",
    "\n",
    "## Tools\n",
    "1. Loop: **for/while**\n",
    "2. Functions: **input(), print()...**\n",
    "3. Conditional statements: **if, elif, else**\n",
    "4. Definition of functions. Modular programming\n",
    "5. Import modules\n",
    "\n",
    "**To solve this challenge, the use of functions is recommended.**\n",
    "\n",
    "#### 1. Import the choice function of the random module."
   ],
   "metadata": {}
  },
  {
   "cell_type": "markdown",
   "source": [],
   "metadata": {}
  },
  {
   "cell_type": "code",
   "execution_count": 1,
   "source": [
    "import random"
   ],
   "outputs": [],
   "metadata": {}
  },
  {
   "cell_type": "markdown",
   "source": [
    "#### 2. Create a list that includes the 3 possible gesture options of the game: 'rock', 'paper' or 'scissors'. Store the list in a variable called `gestures`."
   ],
   "metadata": {}
  },
  {
   "cell_type": "code",
   "execution_count": 56,
   "source": [
    "Gestures = ['Piedra', 'Papel', 'Tijeras']\r\n",
    "NewGestures = ['Piedra', 'Papel', 'Tijeras','Lagarto','Spock']"
   ],
   "outputs": [],
   "metadata": {}
  },
  {
   "cell_type": "markdown",
   "source": [
    "#### 3. Create a variable called `n_rounds` to store the maximum number of rounds to play in a game. \n",
    "Remember that the number of rounds must be odd: 1, 3, 5, ..."
   ],
   "metadata": {}
  },
  {
   "cell_type": "code",
   "execution_count": 57,
   "source": [
    "n_rounds = 1"
   ],
   "outputs": [],
   "metadata": {}
  },
  {
   "cell_type": "markdown",
   "source": [
    "#### 4. Create a variable called `rounds_to_win` to store the number of rounds that a player must win to win the game.\n",
    "**Hint**: the value stored in `rounds_to_win` depends on the value of `n_rounds`. "
   ],
   "metadata": {}
  },
  {
   "cell_type": "code",
   "execution_count": 8,
   "source": [
    "rounds_to_win = 0"
   ],
   "outputs": [],
   "metadata": {}
  },
  {
   "cell_type": "markdown",
   "source": [
    "#### 5. Create two variables to store the number of rounds that the computer and the player have won. Call these variables `cpu_score` and `player_score`."
   ],
   "metadata": {}
  },
  {
   "cell_type": "code",
   "execution_count": 58,
   "source": [
    "cpu_score = 0\r\n",
    "player_score = 0"
   ],
   "outputs": [],
   "metadata": {}
  },
  {
   "cell_type": "markdown",
   "source": [
    "#### 6. Define a function that randomly returns one of the 3 gesture options.\n",
    "You will use this function to simulate the gesture choice of the computer. "
   ],
   "metadata": {}
  },
  {
   "cell_type": "code",
   "execution_count": 66,
   "source": [
    "def JugarRondaPc(): \r\n",
    "    Ganador = 0   \r\n",
    "    for juego in range(1):\r\n",
    "        Ganador = Gestures[random.randint(0,2)]\r\n",
    "    return Ganador    \r\n",
    "    \r\n",
    "def JugarRondaPcAmpliado(): \r\n",
    "    Ganador = 0   \r\n",
    "    for juego in range(1):\r\n",
    "        Ganador = NewGestures[random.randint(0,4)]\r\n",
    "    return Ganador    "
   ],
   "outputs": [],
   "metadata": {}
  },
  {
   "cell_type": "markdown",
   "source": [
    "#### 7. Define a function that asks the player which is the gesture he or she wants to show: 'rock', 'paper' or 'scissors'.\n",
    "The player should only be allowed to choose one of the 3 gesture options. If the player's choice is not rock, paper or scissors, keep asking until it is."
   ],
   "metadata": {}
  },
  {
   "cell_type": "code",
   "execution_count": 67,
   "source": [
    "def ElegirOpcion():  \r\n",
    "    import math  \r\n",
    "    #print(\"Elija una opcion \\n 1 - Piedra \\n 2 -Papel \\n 3 - Tijeras\")\r\n",
    "    EntradaUsuario = input(\"Elija una opcion: 0 - Piedra, 1 -Papel, 2 - Tijeras\")\r\n",
    "    EntradaUsuario = int(EntradaUsuario)\r\n",
    "    return EntradaUsuario\r\n",
    "\r\n",
    "def ElegirOpcionAmpliado():  \r\n",
    "    import math  \r\n",
    "    #print(\"Elija una opcion \\n 1 - Piedra \\n 2 -Papel \\n 3 - Tijeras\")\r\n",
    "    EntradaUsuario = input(\"Elija una opcion: 0 - Piedra, 1 -Papel, 2 - Tijeras, 3 - Lagarto, 4 - Spokc\")\r\n",
    "    EntradaUsuario = int(EntradaUsuario)\r\n",
    "    return EntradaUsuario\r\n"
   ],
   "outputs": [],
   "metadata": {}
  },
  {
   "cell_type": "markdown",
   "source": [
    "#### 8. Define a function that checks who won a round. \n",
    "The function should return 0 if there is a tie, 1 if the computer wins and 2 if the player wins."
   ],
   "metadata": {}
  },
  {
   "cell_type": "code",
   "execution_count": 73,
   "source": [
    "ValorPC = -1\r\n",
    "ValorUsuario = -1\r\n",
    "\r\n",
    "def RetornaGanador():\r\n",
    "    ValorPC = JugarRondaPc()\r\n",
    "    #print(\"Valor pc\" + str(ValorPC))\r\n",
    "    EsCorrecto = False\r\n",
    "    ValorElegido = -1\r\n",
    "    while EsCorrecto != True:\r\n",
    "        ValorElegido = ElegirOpcion()\r\n",
    "        #print (\"Valor Elegido \" + str(ValorElegido))\r\n",
    "        if ValorElegido == 0 or ValorElegido == 1 or ValorElegido == 2:\r\n",
    "            EsCorrecto = True\r\n",
    "        #print(\"Valor Elegido \" + str(ValorElegido) )\r\n",
    "\r\n",
    "    ValorUsuario = int(ValorElegido)\r\n",
    "    #Valida si todos son iguales\r\n",
    "    if ValorPC == Gestures[int(ValorUsuario)]:\r\n",
    "        return 0\r\n",
    "    #Piedra\r\n",
    "    if ValorPC == Gestures[0]:\r\n",
    "        if Gestures[int(ValorUsuario)] == Gestures[1]:\r\n",
    "            return 2\r\n",
    "        else:\r\n",
    "            return 1\r\n",
    "    #Papel\r\n",
    "    if ValorPC == Gestures[1]:\r\n",
    "        if Gestures[int(ValorUsuario)] == Gestures[0]:\r\n",
    "            return 1\r\n",
    "        else:\r\n",
    "            return 2\r\n",
    "    #Tijeras\r\n",
    "    if ValorPC == Gestures[2]:\r\n",
    "        if Gestures[int(ValorUsuario)] == Gestures[0]:\r\n",
    "            return 2\r\n",
    "        else:\r\n",
    "            return 1\r\n",
    "#-------------------------------------\r\n",
    "\r\n",
    "def RetornaGanadorMejorado():\r\n",
    "    ValorPC = JugarRondaPcAmpliado()\r\n",
    "    #print(\"Valor pc\" + str(ValorPC))\r\n",
    "    EsCorrecto = False\r\n",
    "    ValorElegido = -1\r\n",
    "    while EsCorrecto != True:\r\n",
    "        ValorElegido = ElegirOpcionAmpliado()\r\n",
    "        #print (\"Valor Elegido \" + str(ValorElegido))\r\n",
    "        if ValorElegido == 0 or ValorElegido == 1 or ValorElegido == 2 or ValorElegido == 3 or ValorElegido == 4:\r\n",
    "            EsCorrecto = True\r\n",
    "        #print(\"Valor Elegido \" + str(ValorElegido) )\r\n",
    "\r\n",
    "    ValorUsuario = int(ValorElegido)\r\n",
    "    #Valida si todos son iguales\r\n",
    "    if ValorPC == NewGestures[int(ValorUsuario)]:\r\n",
    "        return 0\r\n",
    "    #Piedra\r\n",
    "    if ValorPC == NewGestures[0]:\r\n",
    "        if NewGestures[int(ValorUsuario)] == NewGestures[1] or NewGestures[int(ValorUsuario)] ==NewGestures[3]:\r\n",
    "            return 2\r\n",
    "        else:\r\n",
    "            return 1\r\n",
    "    #Papel\r\n",
    "    if ValorPC == NewGestures[1]:\r\n",
    "        if NewGestures[int(ValorUsuario)] == NewGestures[0] or NewGestures[int(ValorUsuario)] == NewGestures[4]:\r\n",
    "            return 1\r\n",
    "        else:\r\n",
    "            return 2\r\n",
    "    #Tijeras\r\n",
    "    if ValorPC == NewGestures[2]:\r\n",
    "        if NewGestures[int(ValorUsuario)] == NewGestures[0] or NewGestures[int(ValorUsuario)] == NewGestures[3]:\r\n",
    "            return 2\r\n",
    "        else:\r\n",
    "            return 1\r\n",
    "    #Lagarto\r\n",
    "    if ValorPC == NewGestures[3]:\r\n",
    "        if NewGestures[int(ValorUsuario)] == NewGestures[1] or NewGestures[int(ValorUsuario)] == NewGestures[4]:\r\n",
    "            return 2\r\n",
    "        else:\r\n",
    "            return 1\r\n",
    "    #Spokc\r\n",
    "    if ValorPC == NewGestures[4]:\r\n",
    "        if NewGestures[int(ValorUsuario)] == NewGestures[2] or NewGestures[int(ValorUsuario)] == NewGestures[0]:\r\n",
    "            return 2\r\n",
    "        else:\r\n",
    "            return 1\r\n",
    "\r\n"
   ],
   "outputs": [],
   "metadata": {}
  },
  {
   "cell_type": "markdown",
   "source": [
    "#### 9. Define a function that prints the choice of the computer, the choice of the player and a message that announces who won the current round. \n",
    "You should also use this function to update the variables that count the number of rounds that the computer and the player have won. The score of the winner increases by one point. If there is a tie, the score does not increase."
   ],
   "metadata": {}
  },
  {
   "cell_type": "code",
   "execution_count": 69,
   "source": [
    "def MuestraResultado(tipoLanzamiento):\r\n",
    "    GanadorPatida = 0\r\n",
    "    if int(tipoLanzamiento) == 0:\r\n",
    "        GanadorPatida = RetornaGanador()\r\n",
    "    else:\r\n",
    "        GanadorPatida = RetornaGanadorMejorado()\r\n",
    "    CPU = 0\r\n",
    "    Gamer = 0   \r\n",
    "    if GanadorPatida == 0:\r\n",
    "        print (\"Fue un empate\")\r\n",
    "    if GanadorPatida == 1:\r\n",
    "        CPU = CPU +1\r\n",
    "        print(\"El ganado fue el Pc\")\r\n",
    "    else:\r\n",
    "        Gamer = Gamer +1\r\n",
    "        print(\"El ganador fue el jugador\")\r\n",
    "    return CPU, Gamer"
   ],
   "outputs": [],
   "metadata": {}
  },
  {
   "cell_type": "markdown",
   "source": [
    "#### 10. Now it's time to code the execution of the game using the functions and variables you defined above. \n",
    "\n",
    "First, create a loop structure that repeats while no player reaches the minimum score necessary to win and the number of rounds is less than the maximum number of rounds to play in a game.  \n",
    "\n",
    "Inside the loop, use the functions and variables above to create the execution of a round: ask for the player's choice, generate the random choice of the computer, show the round results, update the scores, etc. "
   ],
   "metadata": {}
  },
  {
   "cell_type": "code",
   "execution_count": 70,
   "source": [
    "ValidaRondas = False\r\n",
    "HayGanador = False\r\n",
    "while ValidaRondas != True:\r\n",
    "    NumeroRondas = input(\"Ingrese el numero de Rondas a Ganar, este debe ser impar\")\r\n",
    "    if int(NumeroRondas) % 2 != 0:\r\n",
    "        ValidaRondas = True\r\n",
    "        n_rounds = int(NumeroRondas)\r\n",
    "CantidadJuegos =0\r\n",
    "while HayGanador != True:\r\n",
    "        cpu_score, player_score = MuestraResultado(0)  \r\n",
    "        CantidadJuegos = CantidadJuegos + 1\r\n",
    "        if(CantidadJuegos == n_rounds):\r\n",
    "            HayGanador = True\r\n",
    "        \r\n",
    "    "
   ],
   "outputs": [
    {
     "output_type": "stream",
     "name": "stdout",
     "text": [
      "Fue un empate\n",
      "El ganador fue el jugador\n"
     ]
    }
   ],
   "metadata": {}
  },
  {
   "cell_type": "markdown",
   "source": [
    "#### 11. Print the winner of the game based on who won more rounds.\n",
    "Remember that the game might be tied. "
   ],
   "metadata": {}
  },
  {
   "cell_type": "code",
   "execution_count": 71,
   "source": [
    "if(cpu_score > player_score):\r\n",
    "    print(\"El ganador del juego fue el pc con \" + str(cpu_score))\r\n",
    "else:\r\n",
    "    if cpu_score < player_score:\r\n",
    "        print(\"El ganador del juego fue el pc con \" + str(player_score))\r\n",
    "    else:\r\n",
    "        print(\"Hay un empate\")"
   ],
   "outputs": [
    {
     "output_type": "stream",
     "name": "stdout",
     "text": [
      "El ganador del juego fue el pc con 1\n"
     ]
    }
   ],
   "metadata": {}
  },
  {
   "cell_type": "markdown",
   "source": [
    "# Bonus: Rock, Paper, Scissors, Lizard & Spock\n",
    "![](images/rpsls.jpg)\n",
    "\n",
    "In this challenge, you need to improve the previous game by adding two new options. To know more about the rules of the improved version of rock, paper, scissors, check this [link](http://www.samkass.com/theories/RPSSL.html). \n",
    "\n",
    "In addition, you will also need to improve how the game interacts with the player: the number of rounds to play, which must be an odd number, will be requested to the user until a valid number is entered. Define a new function to make that request.\n",
    "\n",
    "**Hint**: Try to reuse the code that you already coded in the previous challenge. If your code is efficient, this bonus will only consist of simple modifications to the original game."
   ],
   "metadata": {}
  },
  {
   "cell_type": "code",
   "execution_count": 74,
   "source": [
    "ValidaRondas = False\r\n",
    "HayGanador = False\r\n",
    "while ValidaRondas != True:\r\n",
    "    NumeroRondas = input(\"Ingrese el numero de Rondas a Ganar, este debe ser impar\")\r\n",
    "    if int(NumeroRondas) % 2 != 0:\r\n",
    "        ValidaRondas = True\r\n",
    "        n_rounds = int(NumeroRondas)\r\n",
    "CantidadJuegos =0\r\n",
    "while HayGanador != True:\r\n",
    "        cpu_score, player_score = MuestraResultado(1)  \r\n",
    "        CantidadJuegos = CantidadJuegos + 1\r\n",
    "        if(CantidadJuegos == n_rounds):\r\n",
    "            HayGanador = True\r\n",
    "    \r\n"
   ],
   "outputs": [
    {
     "output_type": "stream",
     "name": "stdout",
     "text": [
      "El ganador fue el jugador\n"
     ]
    }
   ],
   "metadata": {}
  }
 ],
 "metadata": {
  "kernelspec": {
   "name": "python3",
   "display_name": "Python 3.9.6 64-bit"
  },
  "language_info": {
   "codemirror_mode": {
    "name": "ipython",
    "version": 3
   },
   "file_extension": ".py",
   "mimetype": "text/x-python",
   "name": "python",
   "nbconvert_exporter": "python",
   "pygments_lexer": "ipython3",
   "version": "3.9.6"
  },
  "interpreter": {
   "hash": "2e3c1e8da6e821b0193601da5a0e541c0efda9704da45b6b820f5f4c317f2def"
  }
 },
 "nbformat": 4,
 "nbformat_minor": 2
}